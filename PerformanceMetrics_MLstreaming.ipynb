{
  "nbformat": 4,
  "nbformat_minor": 0,
  "metadata": {
    "colab": {
      "name": "PerformanceMetrics_MLstreaming.ipynb",
      "provenance": [],
      "collapsed_sections": [],
      "include_colab_link": true
    },
    "kernelspec": {
      "name": "python3",
      "display_name": "Python 3"
    },
    "language_info": {
      "name": "python"
    }
  },
  "cells": [
    {
      "cell_type": "markdown",
      "metadata": {
        "id": "view-in-github",
        "colab_type": "text"
      },
      "source": [
        "<a href=\"https://colab.research.google.com/github/pavan-n-654/EDA-Hotel-bookings-demand/blob/main/PerformanceMetrics_MLstreaming.ipynb\" target=\"_parent\"><img src=\"https://colab.research.google.com/assets/colab-badge.svg\" alt=\"Open In Colab\"/></a>"
      ]
    },
    {
      "cell_type": "code",
      "metadata": {
        "id": "VjHUSvjwcoV9"
      },
      "source": [
        "import matplotlib.pyplot as plt\n",
        "import csv\n",
        "from statistics import mean\n",
        "from sklearn.decomposition import PCA\n",
        "import numpy as np\n",
        "import pandas as pd\n",
        "import joblib"
      ],
      "execution_count": 12,
      "outputs": []
    },
    {
      "cell_type": "code",
      "source": [
        "!git clone https://github.com/Abhishek4848/Datasets.git"
      ],
      "metadata": {
        "colab": {
          "base_uri": "https://localhost:8080/"
        },
        "id": "KZmHGbNe1dwN",
        "outputId": "362c3218-371c-40c5-e2d3-8ac6b56ffcf0"
      },
      "execution_count": 2,
      "outputs": [
        {
          "output_type": "stream",
          "name": "stdout",
          "text": [
            "Cloning into 'Datasets'...\n",
            "remote: Enumerating objects: 96, done.\u001b[K\n",
            "remote: Counting objects: 100% (96/96), done.\u001b[K\n",
            "remote: Compressing objects: 100% (81/81), done.\u001b[K\n",
            "remote: Total 96 (delta 21), reused 71 (delta 9), pack-reused 0\u001b[K\n",
            "Unpacking objects: 100% (96/96), done.\n"
          ]
        }
      ]
    },
    {
      "cell_type": "code",
      "source": [
        "BASE_DIR = \"Datasets/\"\n",
        "TEST_DIR = \"Datasets/test/\"\n",
        "BATCH_DATASET_DIR = \"Datasets/batches_datasets/\""
      ],
      "metadata": {
        "id": "aLV-gzSw1_5u"
      },
      "execution_count": 4,
      "outputs": []
    },
    {
      "cell_type": "code",
      "metadata": {
        "id": "pxWaEbXXwrue"
      },
      "source": [
        "def classifier_perf_metric(cl, size):\n",
        "  acc=[]\n",
        "  precision=[]\n",
        "  recall=[]\n",
        "  f1_score=[]\n",
        "  batch = []\n",
        "  with open(cl+'.csv', 'r') as file:\n",
        "    data = csv.reader(file, delimiter = ',')\n",
        "\n",
        "    for row in data:\n",
        "      acc.append(float(row[1]))\n",
        "      precision.append(float(row[2]))\n",
        "      recall.append(float(row[3]))\n",
        "      f1_score.append(float(row[4]))\n",
        "  batch = [i+1 for i in range(len(acc))]\n",
        "  plot_batch_vs_acc(acc, precision, recall, f1_score, batch, cl[4:], size)\n",
        "  file.close()\n",
        "\n",
        "def classifiers_metric(metric):\n",
        "  for j in [\"1\",\"5\",\"10\",\"15\"]:\n",
        "    classifiers = [\"mNB\", \"bNB\", \"SGD\"]\n",
        "    metric_flag = 0\n",
        "    metric_means=[]\n",
        "    if metric == \"accuracy\":\n",
        "      metric_flag = 1\n",
        "    elif metric == \"precision\":\n",
        "      metric_flag = 2\n",
        "    elif metric == \"recall\":\n",
        "      metric_flag = 3\n",
        "    else:\n",
        "      metric_flag = 4\n",
        "    for i in classifiers:\n",
        "      metric_list=[]\n",
        "      with open(j+'k/'+i+'.csv', 'r') as file:\n",
        "        data = csv.reader(file, delimiter = ',')\n",
        "        for row in data:\n",
        "            if(row[metric_flag] == 'nan'):\n",
        "              row[metric_flag] = int(0)\n",
        "            metric_list.append(float(row[metric_flag]))\n",
        "        metric_means.append(mean(metric_list))\n",
        "    plt.bar(classifiers, metric_means, color = 'r', label = 'Batch Size='+j+'k, avg performance for '+metric)\n",
        "    plt.xlabel('Classifier')\n",
        "    plt.ylabel(metric)\n",
        "    plt.legend()\n",
        "    plt.show()\n",
        "  file.close()"
      ],
      "execution_count": null,
      "outputs": []
    },
    {
      "cell_type": "code",
      "metadata": {
        "id": "hsBvtkrDfmBL"
      },
      "source": [
        "def plot_batch_vs_acc(acc, precision, recall, f1_score, batch, cl, size='NA'):\n",
        "  plt.bar(batch, acc, color = 'r', label = 'Classifier-'+cl+', accuracy for each batch, size='+size)\n",
        "  plt.xlabel('Batch')\n",
        "  plt.ylabel('Accuracy')\n",
        "  plt.legend()\n",
        "  plt.show()\n",
        "\n",
        "  plt.bar(batch, precision, color = 'b', label = 'Classifier-'+cl+', precision for each batch, size='+size)\n",
        "  plt.xlabel('Batch')\n",
        "  plt.ylabel('Precision')\n",
        "  plt.legend()\n",
        "  plt.show()\n",
        "\n",
        "  plt.bar(batch, recall, color = 'y', label = 'Classifier-'+cl+', recall for each batch, size='+size)\n",
        "  plt.xlabel('Batch')\n",
        "  plt.ylabel('Recall')\n",
        "  plt.legend()\n",
        "  plt.show()\n",
        "\n",
        "  plt.bar(batch, f1_score, color = 'm', label = 'Classifier-'+cl+', f1 score for each batch, size='+size)\n",
        "  plt.xlabel('Batch')\n",
        "  plt.ylabel('f1 score')\n",
        "  plt.legend()\n",
        "  plt.show()"
      ],
      "execution_count": null,
      "outputs": []
    },
    {
      "cell_type": "code",
      "metadata": {
        "id": "PUHnx64pXWMy",
        "colab": {
          "base_uri": "https://localhost:8080/",
          "height": 341
        },
        "outputId": "11ef8ca6-bb47-46e4-eb39-d0d11f0166c8"
      },
      "source": [
        "classifiers_metric('accuracy')\n",
        "classifiers_metric('precision')\n",
        "classifiers_metric('recall')\n",
        "classifiers_metric('f1 score')"
      ],
      "execution_count": null,
      "outputs": [
        {
          "output_type": "error",
          "ename": "FileNotFoundError",
          "evalue": "ignored",
          "traceback": [
            "\u001b[0;31m---------------------------------------------------------------------------\u001b[0m",
            "\u001b[0;31mFileNotFoundError\u001b[0m                         Traceback (most recent call last)",
            "\u001b[0;32m<ipython-input-125-c38d0684421b>\u001b[0m in \u001b[0;36m<module>\u001b[0;34m()\u001b[0m\n\u001b[0;32m----> 1\u001b[0;31m \u001b[0mclassifiers_metric\u001b[0m\u001b[0;34m(\u001b[0m\u001b[0;34m'accuracy'\u001b[0m\u001b[0;34m)\u001b[0m\u001b[0;34m\u001b[0m\u001b[0;34m\u001b[0m\u001b[0m\n\u001b[0m\u001b[1;32m      2\u001b[0m \u001b[0mclassifiers_metric\u001b[0m\u001b[0;34m(\u001b[0m\u001b[0;34m'precision'\u001b[0m\u001b[0;34m)\u001b[0m\u001b[0;34m\u001b[0m\u001b[0;34m\u001b[0m\u001b[0m\n\u001b[1;32m      3\u001b[0m \u001b[0mclassifiers_metric\u001b[0m\u001b[0;34m(\u001b[0m\u001b[0;34m'recall'\u001b[0m\u001b[0;34m)\u001b[0m\u001b[0;34m\u001b[0m\u001b[0;34m\u001b[0m\u001b[0m\n\u001b[1;32m      4\u001b[0m \u001b[0mclassifiers_metric\u001b[0m\u001b[0;34m(\u001b[0m\u001b[0;34m'f1 score'\u001b[0m\u001b[0;34m)\u001b[0m\u001b[0;34m\u001b[0m\u001b[0;34m\u001b[0m\u001b[0m\n",
            "\u001b[0;32m<ipython-input-108-b1467205a187>\u001b[0m in \u001b[0;36mclassifiers_metric\u001b[0;34m(metric)\u001b[0m\n\u001b[1;32m     32\u001b[0m     \u001b[0;32mfor\u001b[0m \u001b[0mi\u001b[0m \u001b[0;32min\u001b[0m \u001b[0mclassifiers\u001b[0m\u001b[0;34m:\u001b[0m\u001b[0;34m\u001b[0m\u001b[0;34m\u001b[0m\u001b[0m\n\u001b[1;32m     33\u001b[0m       \u001b[0mmetric_list\u001b[0m\u001b[0;34m=\u001b[0m\u001b[0;34m[\u001b[0m\u001b[0;34m]\u001b[0m\u001b[0;34m\u001b[0m\u001b[0;34m\u001b[0m\u001b[0m\n\u001b[0;32m---> 34\u001b[0;31m       \u001b[0;32mwith\u001b[0m \u001b[0mopen\u001b[0m\u001b[0;34m(\u001b[0m\u001b[0mj\u001b[0m\u001b[0;34m+\u001b[0m\u001b[0;34m'k/'\u001b[0m\u001b[0;34m+\u001b[0m\u001b[0mi\u001b[0m\u001b[0;34m+\u001b[0m\u001b[0;34m'.csv'\u001b[0m\u001b[0;34m,\u001b[0m \u001b[0;34m'r'\u001b[0m\u001b[0;34m)\u001b[0m \u001b[0;32mas\u001b[0m \u001b[0mfile\u001b[0m\u001b[0;34m:\u001b[0m\u001b[0;34m\u001b[0m\u001b[0;34m\u001b[0m\u001b[0m\n\u001b[0m\u001b[1;32m     35\u001b[0m         \u001b[0mdata\u001b[0m \u001b[0;34m=\u001b[0m \u001b[0mcsv\u001b[0m\u001b[0;34m.\u001b[0m\u001b[0mreader\u001b[0m\u001b[0;34m(\u001b[0m\u001b[0mfile\u001b[0m\u001b[0;34m,\u001b[0m \u001b[0mdelimiter\u001b[0m \u001b[0;34m=\u001b[0m \u001b[0;34m','\u001b[0m\u001b[0;34m)\u001b[0m\u001b[0;34m\u001b[0m\u001b[0;34m\u001b[0m\u001b[0m\n\u001b[1;32m     36\u001b[0m         \u001b[0;32mfor\u001b[0m \u001b[0mrow\u001b[0m \u001b[0;32min\u001b[0m \u001b[0mdata\u001b[0m\u001b[0;34m:\u001b[0m\u001b[0;34m\u001b[0m\u001b[0;34m\u001b[0m\u001b[0m\n",
            "\u001b[0;31mFileNotFoundError\u001b[0m: [Errno 2] No such file or directory: '1k/mNB.csv'"
          ]
        }
      ]
    },
    {
      "cell_type": "code",
      "metadata": {
        "id": "FwbhHUGMdfl3",
        "colab": {
          "base_uri": "https://localhost:8080/",
          "height": 341
        },
        "outputId": "e22bfc1e-2163-4cb8-8c00-87ea6b18e694"
      },
      "source": [
        "for j in ['1k/', '5k/', '10k/', '15k/']:\n",
        "  classifier_perf_metric(j+'mNB', j[0:3])\n",
        "  classifier_perf_metric(j+'bNB', j[0:3])\n",
        "  classifier_perf_metric(j+'SGD', j[0:3])"
      ],
      "execution_count": null,
      "outputs": [
        {
          "output_type": "error",
          "ename": "FileNotFoundError",
          "evalue": "ignored",
          "traceback": [
            "\u001b[0;31m---------------------------------------------------------------------------\u001b[0m",
            "\u001b[0;31mFileNotFoundError\u001b[0m                         Traceback (most recent call last)",
            "\u001b[0;32m<ipython-input-126-3633a3a2af75>\u001b[0m in \u001b[0;36m<module>\u001b[0;34m()\u001b[0m\n\u001b[1;32m      1\u001b[0m \u001b[0;32mfor\u001b[0m \u001b[0mj\u001b[0m \u001b[0;32min\u001b[0m \u001b[0;34m[\u001b[0m\u001b[0;34m'1k/'\u001b[0m\u001b[0;34m,\u001b[0m \u001b[0;34m'5k/'\u001b[0m\u001b[0;34m,\u001b[0m \u001b[0;34m'10k/'\u001b[0m\u001b[0;34m,\u001b[0m \u001b[0;34m'15k/'\u001b[0m\u001b[0;34m]\u001b[0m\u001b[0;34m:\u001b[0m\u001b[0;34m\u001b[0m\u001b[0;34m\u001b[0m\u001b[0m\n\u001b[0;32m----> 2\u001b[0;31m   \u001b[0mclassifier_perf_metric\u001b[0m\u001b[0;34m(\u001b[0m\u001b[0mj\u001b[0m\u001b[0;34m+\u001b[0m\u001b[0;34m'mNB'\u001b[0m\u001b[0;34m,\u001b[0m \u001b[0mj\u001b[0m\u001b[0;34m[\u001b[0m\u001b[0;36m0\u001b[0m\u001b[0;34m:\u001b[0m\u001b[0;36m3\u001b[0m\u001b[0;34m]\u001b[0m\u001b[0;34m)\u001b[0m\u001b[0;34m\u001b[0m\u001b[0;34m\u001b[0m\u001b[0m\n\u001b[0m\u001b[1;32m      3\u001b[0m   \u001b[0mclassifier_perf_metric\u001b[0m\u001b[0;34m(\u001b[0m\u001b[0mj\u001b[0m\u001b[0;34m+\u001b[0m\u001b[0;34m'bNB'\u001b[0m\u001b[0;34m,\u001b[0m \u001b[0mj\u001b[0m\u001b[0;34m[\u001b[0m\u001b[0;36m0\u001b[0m\u001b[0;34m:\u001b[0m\u001b[0;36m3\u001b[0m\u001b[0;34m]\u001b[0m\u001b[0;34m)\u001b[0m\u001b[0;34m\u001b[0m\u001b[0;34m\u001b[0m\u001b[0m\n\u001b[1;32m      4\u001b[0m   \u001b[0mclassifier_perf_metric\u001b[0m\u001b[0;34m(\u001b[0m\u001b[0mj\u001b[0m\u001b[0;34m+\u001b[0m\u001b[0;34m'SGD'\u001b[0m\u001b[0;34m,\u001b[0m \u001b[0mj\u001b[0m\u001b[0;34m[\u001b[0m\u001b[0;36m0\u001b[0m\u001b[0;34m:\u001b[0m\u001b[0;36m3\u001b[0m\u001b[0;34m]\u001b[0m\u001b[0;34m)\u001b[0m\u001b[0;34m\u001b[0m\u001b[0;34m\u001b[0m\u001b[0m\n",
            "\u001b[0;32m<ipython-input-108-b1467205a187>\u001b[0m in \u001b[0;36mclassifier_perf_metric\u001b[0;34m(cl, size)\u001b[0m\n\u001b[1;32m      5\u001b[0m   \u001b[0mf1_score\u001b[0m\u001b[0;34m=\u001b[0m\u001b[0;34m[\u001b[0m\u001b[0;34m]\u001b[0m\u001b[0;34m\u001b[0m\u001b[0;34m\u001b[0m\u001b[0m\n\u001b[1;32m      6\u001b[0m   \u001b[0mbatch\u001b[0m \u001b[0;34m=\u001b[0m \u001b[0;34m[\u001b[0m\u001b[0;34m]\u001b[0m\u001b[0;34m\u001b[0m\u001b[0;34m\u001b[0m\u001b[0m\n\u001b[0;32m----> 7\u001b[0;31m   \u001b[0;32mwith\u001b[0m \u001b[0mopen\u001b[0m\u001b[0;34m(\u001b[0m\u001b[0mcl\u001b[0m\u001b[0;34m+\u001b[0m\u001b[0;34m'.csv'\u001b[0m\u001b[0;34m,\u001b[0m \u001b[0;34m'r'\u001b[0m\u001b[0;34m)\u001b[0m \u001b[0;32mas\u001b[0m \u001b[0mfile\u001b[0m\u001b[0;34m:\u001b[0m\u001b[0;34m\u001b[0m\u001b[0;34m\u001b[0m\u001b[0m\n\u001b[0m\u001b[1;32m      8\u001b[0m     \u001b[0mdata\u001b[0m \u001b[0;34m=\u001b[0m \u001b[0mcsv\u001b[0m\u001b[0;34m.\u001b[0m\u001b[0mreader\u001b[0m\u001b[0;34m(\u001b[0m\u001b[0mfile\u001b[0m\u001b[0;34m,\u001b[0m \u001b[0mdelimiter\u001b[0m \u001b[0;34m=\u001b[0m \u001b[0;34m','\u001b[0m\u001b[0;34m)\u001b[0m\u001b[0;34m\u001b[0m\u001b[0;34m\u001b[0m\u001b[0m\n\u001b[1;32m      9\u001b[0m \u001b[0;34m\u001b[0m\u001b[0m\n",
            "\u001b[0;31mFileNotFoundError\u001b[0m: [Errno 2] No such file or directory: '1k/mNB.csv'"
          ]
        }
      ]
    },
    {
      "cell_type": "code",
      "metadata": {
        "id": "Zco5F3HMa-hW"
      },
      "source": [
        "def avg_scores(dataset_name):\n",
        "  url = f'https://raw.githubusercontent.com/Abhishek4848/Datasets/master/Spark%20streaming%20Metrics/{dataset_name}.csv'\n",
        "  df = pd.read_csv(url,header=None)\n",
        "  df.columns = ['Score', 'Accuracy', 'Precision', 'Recall', 'F1 Score']\n",
        "  return([df['Accuracy'].mean(),df['Precision'].mean(),df['Recall'].mean(),df['F1 Score'].mean()])"
      ],
      "execution_count": null,
      "outputs": []
    },
    {
      "cell_type": "code",
      "metadata": {
        "id": "MzPzfGI1d4xJ"
      },
      "source": [
        "bnb_1k = avg_scores(\"bnb/bNB_1k\")\n",
        "bnb_5k = avg_scores(\"bnb/bNB_5k\")\n",
        "bnb_10k = avg_scores(\"bnb/bNB_10k\")\n",
        "bnb_15k = avg_scores(\"bnb/bNB_15k\")\n",
        "mnb_1k = avg_scores(\"mnb/mNB_1k\")\n",
        "mnb_5k = avg_scores(\"mnb/mNB_5k\")\n",
        "mnb_10k = avg_scores(\"mnb/mNB_10k\")\n",
        "mnb_15k = avg_scores(\"mnb/mNB_15k\")\n",
        "sgd_1k = avg_scores(\"sgd/SGD_1K\")\n",
        "sgd_5k = avg_scores(\"sgd/SGD_5K\")\n",
        "sgd_10k = avg_scores(\"sgd/SGD_10k\")\n",
        "sgd_15k = avg_scores(\"sgd/SGD_15K\")"
      ],
      "execution_count": null,
      "outputs": []
    },
    {
      "cell_type": "markdown",
      "metadata": {
        "id": "3FLgQjh6ur9g"
      },
      "source": [
        "## BernoulliNB Classifier"
      ]
    },
    {
      "cell_type": "code",
      "metadata": {
        "colab": {
          "base_uri": "https://localhost:8080/",
          "height": 279
        },
        "id": "NyuS4ACmpqTw",
        "outputId": "7771e79f-c9e6-429a-c540-88161f3581a5"
      },
      "source": [
        "x = np.arange(4)\n",
        "width = 0.2\n",
        "plt.bar(x-0.2,bnb_1k, width, color='red',edgecolor='white')\n",
        "plt.bar(x, bnb_5k, width, color='blue',edgecolor='white')\n",
        "plt.bar(x+0.2, bnb_10k, width, color='lawngreen',edgecolor='white')\n",
        "plt.bar(x+0.4, bnb_15k, width, color='darkgoldenrod',edgecolor='white')\n",
        "plt.xticks(x, ['1k', '5k', '10k', '15k'])\n",
        "plt.xlabel(\"Batch size\")\n",
        "plt.ylabel(\"Metric\")\n",
        "plt.legend([\"Accuracy\", \"Precision\", \"Recall\", \"F1 Score\"])\n",
        "plt.show()"
      ],
      "execution_count": null,
      "outputs": [
        {
          "output_type": "display_data",
          "data": {
            "image/png": "[encoded data removed]",
            "text/plain": [
              "<Figure size 432x288 with 1 Axes>"
            ]
          },
          "metadata": {
            "needs_background": "light"
          }
        }
      ]
    },
    {
      "cell_type": "markdown",
      "metadata": {
        "id": "qxZ_YEl1vKc-"
      },
      "source": [
        "## MultinomialNB Classifier"
      ]
    },
    {
      "cell_type": "code",
      "metadata": {
        "colab": {
          "base_uri": "https://localhost:8080/",
          "height": 279
        },
        "id": "EHWP-BdYrE-y",
        "outputId": "893941ce-f278-46a9-b29a-8771badffa37"
      },
      "source": [
        "x = np.arange(4)\n",
        "width = 0.2\n",
        "plt.bar(x-0.2,mnb_1k, width, color='red',edgecolor='white')\n",
        "plt.bar(x, mnb_5k, width, color='blue',edgecolor='white')\n",
        "plt.bar(x+0.2, mnb_10k, width, color='lawngreen',edgecolor='white')\n",
        "plt.bar(x+0.4, mnb_15k, width, color='darkgoldenrod',edgecolor='white')\n",
        "plt.xticks(x, ['1k', '5k', '10k', '15k'])\n",
        "plt.xlabel(\"Batch size\")\n",
        "plt.ylabel(\"Metric\")\n",
        "plt.legend([\"Accuracy\", \"Precision\", \"Recall\", \"F1 Score\"])\n",
        "plt.show()"
      ],
      "execution_count": null,
      "outputs": [
        {
          "output_type": "display_data",
          "data": {
            "image/png": "[encoded data removed]",
            "text/plain": [
              "<Figure size 432x288 with 1 Axes>"
            ]
          },
          "metadata": {
            "needs_background": "light"
          }
        }
      ]
    },
    {
      "cell_type": "markdown",
      "metadata": {
        "id": "6BuBteVhvYgt"
      },
      "source": [
        "## SGD Classifier"
      ]
    },
    {
      "cell_type": "code",
      "metadata": {
        "colab": {
          "base_uri": "https://localhost:8080/",
          "height": 279
        },
        "id": "WZkrXpVuvT0Q",
        "outputId": "21f9d9f7-e73a-44be-9e4e-ef81a8e320b7"
      },
      "source": [
        "x = np.arange(4)\n",
        "width = 0.2\n",
        "plt.bar(x-0.2,sgd_1k, width, color='red',edgecolor='white')\n",
        "plt.bar(x, sgd_5k, width, color='blue',edgecolor='white')\n",
        "plt.bar(x+0.2, sgd_10k, width, color='lawngreen',edgecolor='white')\n",
        "plt.bar(x+0.4, sgd_15k, width, color='darkgoldenrod',edgecolor='white')\n",
        "plt.xticks(x, ['1k', '5k', '10k', '15k'])\n",
        "plt.xlabel(\"Batch size\")\n",
        "plt.ylabel(\"Metric\")\n",
        "plt.legend([\"Accuracy\", \"Precision\", \"Recall\", \"F1 Score\"])\n",
        "plt.show()"
      ],
      "execution_count": null,
      "outputs": [
        {
          "output_type": "display_data",
          "data": {
            "image/png": "[encoded data removed]",
            "text/plain": [
              "<Figure size 432x288 with 1 Axes>"
            ]
          },
          "metadata": {
            "needs_background": "light"
          }
        }
      ]
    },
    {
      "cell_type": "markdown",
      "metadata": {
        "id": "qN1uaa_ZwlKc"
      },
      "source": [
        "## Hyperparameter performance"
      ]
    },
    {
      "cell_type": "code",
      "metadata": {
        "id": "V5-HQTS4wqq0"
      },
      "source": [
        "bnb_10k_alpha = avg_scores(\"hyperparameter/bNB_10k_allpha0.5\")\n",
        "mnb_10k_alpha = avg_scores(\"hyperparameter/mNB_10k_alpha0.5\")\n",
        "sgd_10k_alpha = avg_scores(\"hyperparameter/SGD_10k_alpha0.5\")"
      ],
      "execution_count": null,
      "outputs": []
    },
    {
      "cell_type": "code",
      "metadata": {
        "colab": {
          "base_uri": "https://localhost:8080/",
          "height": 279
        },
        "id": "bh8u3Qe7zX-Q",
        "outputId": "8bd0a863-1cae-4506-d583-5b4d848f1331"
      },
      "source": [
        "x = np.arange(3)\n",
        "width = 0.40\n",
        "plt.bar(x-0.2,[bnb_10k_alpha[0],mnb_10k_alpha[0],sgd_10k_alpha[0]], width, color='red',edgecolor='white')\n",
        "plt.bar(x+0.2,[bnb_10k[0],mnb_10k[0],sgd_10k[0]], width,color='blue',edgecolor='white')\n",
        "plt.xticks(x, ['bnb', 'mnb', 'sgd'])\n",
        "plt.xlabel(\"Model\")\n",
        "plt.ylabel(\"Accuracy\")\n",
        "plt.legend([\"Alpha = 0.5\", \"Alpha = 1\"])\n",
        "plt.show()"
      ],
      "execution_count": null,
      "outputs": [
        {
          "output_type": "display_data",
          "data": {
            "image/png": "[encoded data removed]",
            "text/plain": [
              "<Figure size 432x288 with 1 Axes>"
            ]
          },
          "metadata": {
            "needs_background": "light"
          }
        }
      ]
    },
    {
      "cell_type": "markdown",
      "metadata": {
        "id": "KPvq5jaVxkgw"
      },
      "source": [
        "# K - Means Clustering"
      ]
    },
    {
      "cell_type": "code",
      "metadata": {
        "id": "fX6eIvpvlQcI"
      },
      "source": [
        "kmc_model = joblib.load(BATCH_DATASET_DIR + \"10k/KMC.pkl\")\n",
        "X = np.loadtxt(TEST_DIR + \"feature_cols.csv\", delimiter=',')\n",
        "y = np.loadtxt(TEST_DIR + \"target_cols.csv\")\n",
        "y = y.astype(int)\n",
        "pca = PCA(2)"
      ],
      "execution_count": 18,
      "outputs": []
    },
    {
      "cell_type": "code",
      "metadata": {
        "id": "cAoWzV-CoNJo"
      },
      "source": [
        "# decomposition to lower dim for plotting\n",
        "X_2d = pca.fit_transform(X)\n",
        "y_preds = kmc_model.predict(X)"
      ],
      "execution_count": 19,
      "outputs": []
    },
    {
      "cell_type": "code",
      "source": [
        "cor_preds = []      # mails predicted correctly\n",
        "wrg_pred_ham = []   # mails wrongly predicted as Ham\n",
        "wrg_pred_spam = []  # mails wrongly predicted as Spam\n",
        "\n",
        "for data, y_acc, y_pred in zip(X_2d.tolist(),y, y_preds):\n",
        "  if y_acc == y_pred:\n",
        "    cor_preds.append(data)\n",
        "  else:\n",
        "    if y_acc == 1:    # 0 for spam and 1 for ham\n",
        "      wrg_pred_spam.append(data)\n",
        "    else:\n",
        "      wrg_pred_ham.append(data)"
      ],
      "metadata": {
        "id": "u79K4Gas1VsA"
      },
      "execution_count": 55,
      "outputs": []
    },
    {
      "cell_type": "code",
      "source": [
        "cor_preds = np.array(cor_preds)\n",
        "wrg_pred_ham = np.array(wrg_pred_ham)\n",
        "wrg_pred_spam = np.array(wrg_pred_spam)"
      ],
      "metadata": {
        "id": "PYyIfAZ2BeSp"
      },
      "execution_count": 57,
      "outputs": []
    },
    {
      "cell_type": "code",
      "metadata": {
        "id": "s-leHqWiu6SG",
        "colab": {
          "base_uri": "https://localhost:8080/",
          "height": 265
        },
        "outputId": "8b2ce6e4-b294-4501-fdae-a9b214af0cf8"
      },
      "source": [
        "fig = plt.figure()\n",
        "ax1 = fig.add_subplot(111)\n",
        "\n",
        "ax1.scatter(cor_preds[:,0], cor_preds[:,1], c='g', marker='o', label = 'Correct Prediction')\n",
        "ax1.scatter(wrg_pred_ham[:,0], wrg_pred_ham[:,1], c='r', marker='<', label = 'Wrong Ham')\n",
        "ax1.scatter(wrg_pred_spam[:,0], wrg_pred_spam[:,1], c='b', marker='>', label = 'Wrong Spam')\n",
        "plt.legend(loc='best');\n",
        "plt.show()\n"
      ],
      "execution_count": 49,
      "outputs": [
        {
          "output_type": "display_data",
          "data": {
            "image/png": "[encoded data removed]",
            "text/plain": [
              "<Figure size 432x288 with 1 Axes>"
            ]
          },
          "metadata": {
            "needs_background": "light"
          }
        }
      ]
    },
    {
      "cell_type": "code",
      "source": [
        "wrg_pred_ham"
      ],
      "metadata": {
        "id": "vDUhbfZE41cS",
        "outputId": "0e03cf02-6277-4d78-f4ac-11a0e8bf0105",
        "colab": {
          "base_uri": "https://localhost:8080/"
        }
      },
      "execution_count": 59,
      "outputs": [
        {
          "output_type": "execute_result",
          "data": {
            "text/plain": [
              "array([[-0.70318723,  0.61126761],\n",
              "       [-0.70318723,  0.61126761],\n",
              "       [-0.70318723,  0.61126761],\n",
              "       [-0.70318723,  0.61126761],\n",
              "       [-0.70318723,  0.61126761],\n",
              "       [-0.70318723,  0.61126761],\n",
              "       [-0.70318723,  0.61126761],\n",
              "       [-0.70318723,  0.61126761],\n",
              "       [-0.70318723,  0.61126761],\n",
              "       [-0.70318723,  0.61126761],\n",
              "       [-0.70318723,  0.61126761],\n",
              "       [-0.70318723,  0.61126761],\n",
              "       [-0.70318723,  0.61126761],\n",
              "       [-0.70318723,  0.61126761],\n",
              "       [-0.70318723,  0.61126761],\n",
              "       [-0.70318723,  0.61126761],\n",
              "       [-0.70318723,  0.61126761],\n",
              "       [-0.70318723,  0.61126761],\n",
              "       [-0.70318723,  0.61126761],\n",
              "       [-0.70318723,  0.61126761],\n",
              "       [-0.70318723,  0.61126761],\n",
              "       [-0.70318723,  0.61126761],\n",
              "       [-0.70318723,  0.61126761],\n",
              "       [-0.70318723,  0.61126761],\n",
              "       [-0.70318723,  0.61126761],\n",
              "       [-0.70318723,  0.61126761],\n",
              "       [-0.70318723,  0.61126761],\n",
              "       [-0.70318723,  0.61126761],\n",
              "       [-0.70318723,  0.61126761],\n",
              "       [-0.70318723,  0.61126761],\n",
              "       [-0.70318723,  0.61126761],\n",
              "       [-0.70318723,  0.61126761],\n",
              "       [-0.70318723,  0.61126761],\n",
              "       [-0.70318723,  0.61126761],\n",
              "       [-0.70318723,  0.61126761],\n",
              "       [-0.70318723,  0.61126761],\n",
              "       [-0.70318723,  0.61126761],\n",
              "       [-0.70318723,  0.61126761],\n",
              "       [-0.70318723,  0.61126761],\n",
              "       [-0.70318723,  0.61126761],\n",
              "       [-0.70318723,  0.61126761],\n",
              "       [-0.70318723,  0.61126761],\n",
              "       [-0.70318723,  0.61126761],\n",
              "       [-0.70318723,  0.61126761],\n",
              "       [-0.70318723,  0.61126761],\n",
              "       [-0.70318723,  0.61126761],\n",
              "       [-0.70318723,  0.61126761],\n",
              "       [-0.70318723,  0.61126761],\n",
              "       [-0.70318723,  0.61126761],\n",
              "       [-0.70318723,  0.61126761],\n",
              "       [-0.70318723,  0.61126761],\n",
              "       [-0.70318723,  0.61126761],\n",
              "       [-0.70318723,  0.61126761],\n",
              "       [-0.70318723,  0.61126761],\n",
              "       [-0.70318723,  0.61126761],\n",
              "       [-0.70318723,  0.61126761],\n",
              "       [-0.70318723,  0.61126761],\n",
              "       [-0.70318723,  0.61126761],\n",
              "       [-0.70318723,  0.61126761],\n",
              "       [-0.70318723,  0.61126761],\n",
              "       [-0.70318723,  0.61126761],\n",
              "       [-0.70318723,  0.61126761],\n",
              "       [-0.70318723,  0.61126761],\n",
              "       [-0.70318723,  0.61126761],\n",
              "       [-0.70318723,  0.61126761],\n",
              "       [-0.70318723,  0.61126761],\n",
              "       [-0.70318723,  0.61126761],\n",
              "       [-0.70318723,  0.61126761],\n",
              "       [-0.70318723,  0.61126761],\n",
              "       [-0.70318723,  0.61126761],\n",
              "       [-0.70318723,  0.61126761],\n",
              "       [-0.70318723,  0.61126761],\n",
              "       [-0.70318723,  0.61126761],\n",
              "       [-0.70318723,  0.61126761],\n",
              "       [-0.70318723,  0.61126761],\n",
              "       [-0.70318723,  0.61126761],\n",
              "       [-0.70318723,  0.61126761],\n",
              "       [-0.70318723,  0.61126761],\n",
              "       [-0.70318723,  0.61126761],\n",
              "       [-0.70318723,  0.61126761],\n",
              "       [-0.70318723,  0.61126761],\n",
              "       [-0.70318723,  0.61126761],\n",
              "       [-0.70318723,  0.61126761],\n",
              "       [-0.70318723,  0.61126761],\n",
              "       [-0.70318723,  0.61126761],\n",
              "       [-0.70318723,  0.61126761],\n",
              "       [-0.70318723,  0.61126761],\n",
              "       [-0.70318723,  0.61126761],\n",
              "       [-0.70318723,  0.61126761],\n",
              "       [-0.70318723,  0.61126761],\n",
              "       [-0.70318723,  0.61126761],\n",
              "       [-0.70318723,  0.61126761],\n",
              "       [-0.70318723,  0.61126761],\n",
              "       [-0.70318723,  0.61126761],\n",
              "       [-0.70318723,  0.61126761],\n",
              "       [-0.70318723,  0.61126761],\n",
              "       [-0.70318723,  0.61126761],\n",
              "       [-0.70318723,  0.61126761],\n",
              "       [-0.70318723,  0.61126761],\n",
              "       [-0.70318723,  0.61126761],\n",
              "       [-0.70318723,  0.61126761],\n",
              "       [-0.70318723,  0.61126761],\n",
              "       [-0.70318723,  0.61126761],\n",
              "       [-0.70318723,  0.61126761],\n",
              "       [-0.70318723,  0.61126761],\n",
              "       [-0.70318723,  0.61126761],\n",
              "       [-0.70318723,  0.61126761],\n",
              "       [-0.70318723,  0.61126761],\n",
              "       [-0.70318723,  0.61126761],\n",
              "       [-0.70318723,  0.61126761],\n",
              "       [-0.70318723,  0.61126761],\n",
              "       [-0.70318723,  0.61126761],\n",
              "       [-0.70318723,  0.61126761],\n",
              "       [-0.70318723,  0.61126761],\n",
              "       [-0.70318723,  0.61126761],\n",
              "       [-0.70318723,  0.61126761],\n",
              "       [-0.70318723,  0.61126761],\n",
              "       [-0.70318723,  0.61126761],\n",
              "       [-0.70318723,  0.61126761],\n",
              "       [-0.70318723,  0.61126761],\n",
              "       [-0.70318723,  0.61126761],\n",
              "       [-0.70318723,  0.61126761],\n",
              "       [-0.70318723,  0.61126761],\n",
              "       [-0.70318723,  0.61126761],\n",
              "       [-0.70318723,  0.61126761],\n",
              "       [-0.70318723,  0.61126761],\n",
              "       [-0.70318723,  0.61126761],\n",
              "       [-0.70318723,  0.61126761],\n",
              "       [-0.70318723,  0.61126761],\n",
              "       [-0.70318723,  0.61126761],\n",
              "       [-0.70318723,  0.61126761],\n",
              "       [-0.70318723,  0.61126761],\n",
              "       [-0.70318723,  0.61126761],\n",
              "       [-0.70318723,  0.61126761],\n",
              "       [-0.70318723,  0.61126761],\n",
              "       [-0.70318723,  0.61126761],\n",
              "       [-0.70318723,  0.61126761],\n",
              "       [-0.70318723,  0.61126761],\n",
              "       [-0.70318723,  0.61126761],\n",
              "       [-0.70318723,  0.61126761],\n",
              "       [-0.70318723,  0.61126761],\n",
              "       [-0.70318723,  0.61126761],\n",
              "       [-0.70318723,  0.61126761],\n",
              "       [-0.70318723,  0.61126761],\n",
              "       [-0.70318723,  0.61126761],\n",
              "       [-0.70318723,  0.61126761],\n",
              "       [-0.70318723,  0.61126761],\n",
              "       [-0.70318723,  0.61126761],\n",
              "       [-0.70318723,  0.61126761],\n",
              "       [-0.70318723,  0.61126761],\n",
              "       [-0.70318723,  0.61126761],\n",
              "       [-0.70318723,  0.61126761],\n",
              "       [-0.70318723,  0.61126761],\n",
              "       [-0.70318723,  0.61126761],\n",
              "       [-0.70318723,  0.61126761],\n",
              "       [-0.70318723,  0.61126761],\n",
              "       [-0.70318723,  0.61126761],\n",
              "       [-0.70318723,  0.61126761],\n",
              "       [-0.70318723,  0.61126761],\n",
              "       [-0.70318723,  0.61126761],\n",
              "       [-0.70318723,  0.61126761],\n",
              "       [-0.70318723,  0.61126761],\n",
              "       [-0.70318723,  0.61126761],\n",
              "       [-0.70318723,  0.61126761],\n",
              "       [-0.70318723,  0.61126761],\n",
              "       [-0.70318723,  0.61126761],\n",
              "       [-0.70318723,  0.61126761],\n",
              "       [-0.70318723,  0.61126761],\n",
              "       [-0.70318723,  0.61126761],\n",
              "       [-0.70318723,  0.61126761],\n",
              "       [-0.70318723,  0.61126761],\n",
              "       [-0.70318723,  0.61126761],\n",
              "       [-0.70318723,  0.61126761],\n",
              "       [-0.70318723,  0.61126761],\n",
              "       [-0.70318723,  0.61126761],\n",
              "       [-0.70318723,  0.61126761],\n",
              "       [-0.70318723,  0.61126761],\n",
              "       [-0.70318723,  0.61126761],\n",
              "       [-0.70318723,  0.61126761],\n",
              "       [-0.70318723,  0.61126761],\n",
              "       [-0.70318723,  0.61126761],\n",
              "       [-0.70318723,  0.61126761],\n",
              "       [-0.70318723,  0.61126761],\n",
              "       [-0.70318723,  0.61126761],\n",
              "       [-0.70318723,  0.61126761],\n",
              "       [-0.70318723,  0.61126761],\n",
              "       [-0.70318723,  0.61126761],\n",
              "       [-0.70318723,  0.61126761],\n",
              "       [-0.70318723,  0.61126761],\n",
              "       [-0.70318723,  0.61126761],\n",
              "       [-0.70318723,  0.61126761],\n",
              "       [-0.70318723,  0.61126761],\n",
              "       [-0.70318723,  0.61126761],\n",
              "       [-0.70318723,  0.61126761],\n",
              "       [-0.70318723,  0.61126761],\n",
              "       [-0.70318723,  0.61126761],\n",
              "       [-0.70318723,  0.61126761],\n",
              "       [-0.70318723,  0.61126761],\n",
              "       [-0.70318723,  0.61126761],\n",
              "       [-0.70318723,  0.61126761],\n",
              "       [-0.70318723,  0.61126761],\n",
              "       [-0.70318723,  0.61126761],\n",
              "       [-0.70318723,  0.61126761],\n",
              "       [-0.70318723,  0.61126761],\n",
              "       [-0.70318723,  0.61126761],\n",
              "       [-0.70318723,  0.61126761],\n",
              "       [-0.70318723,  0.61126761],\n",
              "       [-0.70318723,  0.61126761],\n",
              "       [-0.70318723,  0.61126761],\n",
              "       [-0.70318723,  0.61126761],\n",
              "       [-0.70318723,  0.61126761],\n",
              "       [-0.70318723,  0.61126761],\n",
              "       [-0.70318723,  0.61126761],\n",
              "       [-0.70318723,  0.61126761],\n",
              "       [-0.70318723,  0.61126761],\n",
              "       [-0.70318723,  0.61126761],\n",
              "       [-0.70318723,  0.61126761],\n",
              "       [-0.70318723,  0.61126761],\n",
              "       [-0.70318723,  0.61126761],\n",
              "       [-0.70318723,  0.61126761],\n",
              "       [-0.70318723,  0.61126761],\n",
              "       [-0.70318723,  0.61126761],\n",
              "       [-0.70318723,  0.61126761],\n",
              "       [-0.70318723,  0.61126761],\n",
              "       [-0.70318723,  0.61126761],\n",
              "       [-0.70318723,  0.61126761],\n",
              "       [-0.70318723,  0.61126761],\n",
              "       [-0.70318723,  0.61126761],\n",
              "       [-0.70318723,  0.61126761],\n",
              "       [-0.70318723,  0.61126761],\n",
              "       [-0.70318723,  0.61126761],\n",
              "       [-0.70318723,  0.61126761],\n",
              "       [-0.70318723,  0.61126761],\n",
              "       [-0.70318723,  0.61126761],\n",
              "       [-0.70318723,  0.61126761],\n",
              "       [-0.70318723,  0.61126761],\n",
              "       [-0.70318723,  0.61126761],\n",
              "       [-0.70318723,  0.61126761],\n",
              "       [-0.70318723,  0.61126761],\n",
              "       [-0.70318723,  0.61126761],\n",
              "       [-0.70318723,  0.61126761],\n",
              "       [-0.70318723,  0.61126761],\n",
              "       [-0.70318723,  0.61126761],\n",
              "       [-0.70318723,  0.61126761],\n",
              "       [-0.70318723,  0.61126761],\n",
              "       [-0.70318723,  0.61126761],\n",
              "       [-0.70318723,  0.61126761],\n",
              "       [-0.70318723,  0.61126761],\n",
              "       [-0.70318723,  0.61126761],\n",
              "       [-0.70318723,  0.61126761],\n",
              "       [-0.70318723,  0.61126761],\n",
              "       [-0.70318723,  0.61126761],\n",
              "       [-0.70318723,  0.61126761],\n",
              "       [-0.70318723,  0.61126761],\n",
              "       [-0.70318723,  0.61126761],\n",
              "       [-0.70318723,  0.61126761],\n",
              "       [-0.70318723,  0.61126761],\n",
              "       [-0.70318723,  0.61126761],\n",
              "       [-0.70318723,  0.61126761],\n",
              "       [-0.70318723,  0.61126761],\n",
              "       [-0.70318723,  0.61126761],\n",
              "       [-0.70318723,  0.61126761],\n",
              "       [-0.70318723,  0.61126761],\n",
              "       [-0.70318723,  0.61126761],\n",
              "       [-0.70318723,  0.61126761],\n",
              "       [-0.70318723,  0.61126761],\n",
              "       [-0.70318723,  0.61126761],\n",
              "       [-0.70318723,  0.61126761],\n",
              "       [-0.70318723,  0.61126761],\n",
              "       [-0.70318723,  0.61126761],\n",
              "       [-0.70318723,  0.61126761],\n",
              "       [-0.70318723,  0.61126761],\n",
              "       [-0.70318723,  0.61126761],\n",
              "       [-0.70318723,  0.61126761],\n",
              "       [-0.70318723,  0.61126761],\n",
              "       [-0.70318723,  0.61126761],\n",
              "       [-0.70318723,  0.61126761],\n",
              "       [-0.70318723,  0.61126761],\n",
              "       [-0.70318723,  0.61126761],\n",
              "       [-0.70318723,  0.61126761],\n",
              "       [-0.70318723,  0.61126761],\n",
              "       [-0.70318723,  0.61126761],\n",
              "       [-0.70318723,  0.61126761],\n",
              "       [-0.70318723,  0.61126761],\n",
              "       [-0.70318723,  0.61126761],\n",
              "       [-0.70318723,  0.61126761],\n",
              "       [-0.70318723,  0.61126761],\n",
              "       [-0.70318723,  0.61126761],\n",
              "       [-0.70318723,  0.61126761],\n",
              "       [-0.70318723,  0.61126761],\n",
              "       [-0.70318723,  0.61126761],\n",
              "       [-0.70318723,  0.61126761],\n",
              "       [-0.70318723,  0.61126761],\n",
              "       [-0.70318723,  0.61126761],\n",
              "       [-0.70318723,  0.61126761],\n",
              "       [-0.70318723,  0.61126761],\n",
              "       [-0.70318723,  0.61126761],\n",
              "       [-0.70318723,  0.61126761],\n",
              "       [-0.70318723,  0.61126761],\n",
              "       [-0.70318723,  0.61126761],\n",
              "       [-0.70318723,  0.61126761],\n",
              "       [-0.70318723,  0.61126761],\n",
              "       [-0.70318723,  0.61126761],\n",
              "       [-0.70318723,  0.61126761],\n",
              "       [-0.70318723,  0.61126761],\n",
              "       [-0.70318723,  0.61126761],\n",
              "       [-0.70318723,  0.61126761],\n",
              "       [-0.70318723,  0.61126761],\n",
              "       [-0.70318723,  0.61126761],\n",
              "       [-0.70318723,  0.61126761],\n",
              "       [-0.70318723,  0.61126761],\n",
              "       [-0.70318723,  0.61126761],\n",
              "       [-0.70318723,  0.61126761],\n",
              "       [-0.70318723,  0.61126761],\n",
              "       [-0.70318723,  0.61126761],\n",
              "       [-0.70318723,  0.61126761],\n",
              "       [-0.70318723,  0.61126761],\n",
              "       [-0.70318723,  0.61126761],\n",
              "       [-0.70318723,  0.61126761],\n",
              "       [-0.70318723,  0.61126761],\n",
              "       [-0.70318723,  0.61126761],\n",
              "       [-0.70318723,  0.61126761],\n",
              "       [-0.70318723,  0.61126761],\n",
              "       [-0.70318723,  0.61126761],\n",
              "       [-0.70318723,  0.61126761],\n",
              "       [-0.70318723,  0.61126761],\n",
              "       [-0.70318723,  0.61126761],\n",
              "       [-0.70318723,  0.61126761],\n",
              "       [-0.70318723,  0.61126761],\n",
              "       [-0.70318723,  0.61126761],\n",
              "       [-0.70318723,  0.61126761],\n",
              "       [-0.70318723,  0.61126761],\n",
              "       [-0.70318723,  0.61126761],\n",
              "       [-0.70318723,  0.61126761],\n",
              "       [-0.70318723,  0.61126761],\n",
              "       [-0.70318723,  0.61126761],\n",
              "       [-0.70318723,  0.61126761],\n",
              "       [-0.70318723,  0.61126761],\n",
              "       [-0.70318723,  0.61126761],\n",
              "       [-0.70318723,  0.61126761],\n",
              "       [-0.70318723,  0.61126761],\n",
              "       [-0.70318723,  0.61126761],\n",
              "       [-0.70318723,  0.61126761],\n",
              "       [-0.70318723,  0.61126761],\n",
              "       [-0.70318723,  0.61126761],\n",
              "       [-0.70318723,  0.61126761],\n",
              "       [-0.70318723,  0.61126761],\n",
              "       [-0.70318723,  0.61126761],\n",
              "       [-0.70318723,  0.61126761],\n",
              "       [-0.70318723,  0.61126761],\n",
              "       [-0.70318723,  0.61126761],\n",
              "       [-0.70318723,  0.61126761],\n",
              "       [-0.70318723,  0.61126761],\n",
              "       [-0.70318723,  0.61126761],\n",
              "       [-0.70318723,  0.61126761],\n",
              "       [-0.70318723,  0.61126761],\n",
              "       [-0.70318723,  0.61126761],\n",
              "       [-0.70318723,  0.61126761],\n",
              "       [-0.70318723,  0.61126761],\n",
              "       [-0.70318723,  0.61126761],\n",
              "       [-0.70318723,  0.61126761],\n",
              "       [-0.70318723,  0.61126761],\n",
              "       [-0.70318723,  0.61126761],\n",
              "       [-0.70318723,  0.61126761],\n",
              "       [-0.70318723,  0.61126761],\n",
              "       [-0.70318723,  0.61126761],\n",
              "       [-0.70318723,  0.61126761],\n",
              "       [-0.70318723,  0.61126761],\n",
              "       [-0.70318723,  0.61126761],\n",
              "       [-0.70318723,  0.61126761],\n",
              "       [-0.70318723,  0.61126761],\n",
              "       [-0.70318723,  0.61126761],\n",
              "       [-0.70318723,  0.61126761],\n",
              "       [-0.70318723,  0.61126761],\n",
              "       [-0.70318723,  0.61126761],\n",
              "       [-0.70318723,  0.61126761],\n",
              "       [-0.70318723,  0.61126761],\n",
              "       [-0.70318723,  0.61126761],\n",
              "       [-0.70318723,  0.61126761],\n",
              "       [-0.70318723,  0.61126761],\n",
              "       [-0.70318723,  0.61126761],\n",
              "       [-0.70318723,  0.61126761],\n",
              "       [-0.70318723,  0.61126761],\n",
              "       [-0.70318723,  0.61126761],\n",
              "       [-0.70318723,  0.61126761],\n",
              "       [-0.70318723,  0.61126761],\n",
              "       [-0.70318723,  0.61126761],\n",
              "       [-0.70318723,  0.61126761],\n",
              "       [-0.70318723,  0.61126761],\n",
              "       [-0.70318723,  0.61126761],\n",
              "       [-0.70318723,  0.61126761],\n",
              "       [-0.70318723,  0.61126761],\n",
              "       [-0.70318723,  0.61126761],\n",
              "       [-0.70318723,  0.61126761],\n",
              "       [-0.70318723,  0.61126761],\n",
              "       [-0.70318723,  0.61126761],\n",
              "       [-0.70318723,  0.61126761],\n",
              "       [-0.70318723,  0.61126761],\n",
              "       [-0.70318723,  0.61126761],\n",
              "       [-0.70318723,  0.61126761],\n",
              "       [-0.70318723,  0.61126761],\n",
              "       [-0.70318723,  0.61126761],\n",
              "       [-0.70318723,  0.61126761],\n",
              "       [-0.70318723,  0.61126761],\n",
              "       [-0.70318723,  0.61126761],\n",
              "       [-0.70318723,  0.61126761],\n",
              "       [-0.70318723,  0.61126761],\n",
              "       [-0.70318723,  0.61126761],\n",
              "       [-0.70318723,  0.61126761],\n",
              "       [-0.70318723,  0.61126761],\n",
              "       [-0.70318723,  0.61126761],\n",
              "       [-0.70318723,  0.61126761],\n",
              "       [-0.70318723,  0.61126761],\n",
              "       [-0.70318723,  0.61126761],\n",
              "       [-0.70318723,  0.61126761],\n",
              "       [-0.70318723,  0.61126761],\n",
              "       [-0.70318723,  0.61126761],\n",
              "       [-0.70318723,  0.61126761],\n",
              "       [-0.70318723,  0.61126761],\n",
              "       [-0.70318723,  0.61126761],\n",
              "       [-0.70318723,  0.61126761],\n",
              "       [-0.70318723,  0.61126761],\n",
              "       [-0.70318723,  0.61126761],\n",
              "       [-0.70318723,  0.61126761],\n",
              "       [-0.70318723,  0.61126761],\n",
              "       [-0.70318723,  0.61126761],\n",
              "       [-0.70318723,  0.61126761],\n",
              "       [-0.70318723,  0.61126761],\n",
              "       [-0.70318723,  0.61126761],\n",
              "       [-0.70318723,  0.61126761],\n",
              "       [-0.70318723,  0.61126761],\n",
              "       [-0.70318723,  0.61126761],\n",
              "       [-0.70318723,  0.61126761],\n",
              "       [-0.70318723,  0.61126761]])"
            ]
          },
          "metadata": {},
          "execution_count": 59
        }
      ]
    },
    {
      "cell_type": "code",
      "source": [
        ""
      ],
      "metadata": {
        "id": "ZTqWyP7651oB",
        "outputId": "24531d3f-0690-49b5-ba97-449b33269fdf",
        "colab": {
          "base_uri": "https://localhost:8080/"
        }
      },
      "execution_count": 58,
      "outputs": [
        {
          "output_type": "stream",
          "name": "stdout",
          "text": [
            "(1341, 2) (434, 2) (1597, 2) (3372, 2)\n"
          ]
        }
      ]
    },
    {
      "cell_type": "code",
      "source": [
        "1341+434+1597"
      ],
      "metadata": {
        "id": "wOwcLXfu9hIJ",
        "outputId": "55e7992e-e211-4d97-a7cd-e941f4e41c9f",
        "colab": {
          "base_uri": "https://localhost:8080/"
        }
      },
      "execution_count": 54,
      "outputs": [
        {
          "output_type": "execute_result",
          "data": {
            "text/plain": [
              "3372"
            ]
          },
          "metadata": {},
          "execution_count": 54
        }
      ]
    },
    {
      "cell_type": "code",
      "source": [
        "np.array(X_2d.tolist())"
      ],
      "metadata": {
        "id": "xwGSnLuW9pVp"
      },
      "execution_count": null,
      "outputs": []
    },
    {
      "cell_type": "code",
      "source": [
        "print(y)"
      ],
      "metadata": {
        "id": "K4vRQzCn9zVZ",
        "outputId": "bde492cc-bdcb-43ae-e75a-2472a2246498",
        "colab": {
          "base_uri": "https://localhost:8080/"
        }
      },
      "execution_count": 25,
      "outputs": [
        {
          "output_type": "stream",
          "name": "stdout",
          "text": [
            "[0 1 0 ... 1 1 0]\n"
          ]
        }
      ]
    },
    {
      "cell_type": "code",
      "source": [
        "df = pd.read_csv(\"/content/Datasets/test/spam/test.csv\")"
      ],
      "metadata": {
        "id": "xvybNpp0_WQ-"
      },
      "execution_count": 35,
      "outputs": []
    },
    {
      "cell_type": "code",
      "source": [
        "df"
      ],
      "metadata": {
        "id": "PAeGRvIMADaR",
        "outputId": "c32742b2-c18b-4f6a-ecc5-09eb236302b9",
        "colab": {
          "base_uri": "https://localhost:8080/",
          "height": 424
        }
      },
      "execution_count": 36,
      "outputs": [
        {
          "output_type": "execute_result",
          "data": {
            "text/html": [
              "<div>\n",
              "<style scoped>\n",
              "    .dataframe tbody tr th:only-of-type {\n",
              "        vertical-align: middle;\n",
              "    }\n",
              "\n",
              "    .dataframe tbody tr th {\n",
              "        vertical-align: top;\n",
              "    }\n",
              "\n",
              "    .dataframe thead th {\n",
              "        text-align: right;\n",
              "    }\n",
              "</style>\n",
              "<table border=\"1\" class=\"dataframe\">\n",
              "  <thead>\n",
              "    <tr style=\"text-align: right;\">\n",
              "      <th></th>\n",
              "      <th>Subject</th>\n",
              "      <th>Message</th>\n",
              "      <th>Spam/Ham</th>\n",
              "    </tr>\n",
              "  </thead>\n",
              "  <tbody>\n",
              "    <tr>\n",
              "      <th>0</th>\n",
              "      <td>fw : memo : re : your work phone number</td>\n",
              "      <td>hi ,\\ni am forwarding an email from a former b...</td>\n",
              "      <td>spam</td>\n",
              "    </tr>\n",
              "    <tr>\n",
              "      <th>1</th>\n",
              "      <td>fw : cost estimate</td>\n",
              "      <td>team -\\nbelow is a project request spreadsheet...</td>\n",
              "      <td>ham</td>\n",
              "    </tr>\n",
              "    <tr>\n",
              "      <th>2</th>\n",
              "      <td>re : releases</td>\n",
              "      <td>louise ,\\nthanks so much for your speedy reply...</td>\n",
              "      <td>spam</td>\n",
              "    </tr>\n",
              "    <tr>\n",
              "      <th>3</th>\n",
              "      <td>fw : re ivanhoe e . s . d</td>\n",
              "      <td>fyi , kim .\\n- - - - - original message - - - ...</td>\n",
              "      <td>spam</td>\n",
              "    </tr>\n",
              "    <tr>\n",
              "      <th>4</th>\n",
              "      <td>scholarship interviews</td>\n",
              "      <td>andrea , karen , loftus , roger and sally ,\\nt...</td>\n",
              "      <td>ham</td>\n",
              "    </tr>\n",
              "    <tr>\n",
              "      <th>...</th>\n",
              "      <td>...</td>\n",
              "      <td>...</td>\n",
              "      <td>...</td>\n",
              "    </tr>\n",
              "    <tr>\n",
              "      <th>3367</th>\n",
              "      <td>columbia energy history data</td>\n",
              "      <td>fyi - we will probably be asked what historica...</td>\n",
              "      <td>ham</td>\n",
              "    </tr>\n",
              "    <tr>\n",
              "      <th>3368</th>\n",
              "      <td>start date : 1 / 10 / 02 ; hourahead hour : 16 ;</td>\n",
              "      <td>start date : 1 / 10 / 02 ; hourahead hour : 16...</td>\n",
              "      <td>ham</td>\n",
              "    </tr>\n",
              "    <tr>\n",
              "      <th>3369</th>\n",
              "      <td>re : mba polish speakers</td>\n",
              "      <td>does he know any of the names identified by so...</td>\n",
              "      <td>ham</td>\n",
              "    </tr>\n",
              "    <tr>\n",
              "      <th>3370</th>\n",
              "      <td>re : enron / stanford program</td>\n",
              "      <td>vince ,\\nare we on for dinner on sunday at 7 p...</td>\n",
              "      <td>ham</td>\n",
              "    </tr>\n",
              "    <tr>\n",
              "      <th>3371</th>\n",
              "      <td>fw : re ivanhoe e . s . d</td>\n",
              "      <td>fyi , kim .\\n- - - - - original message - - - ...</td>\n",
              "      <td>spam</td>\n",
              "    </tr>\n",
              "  </tbody>\n",
              "</table>\n",
              "<p>3372 rows × 3 columns</p>\n",
              "</div>"
            ],
            "text/plain": [
              "                                               Subject  ... Spam/Ham\n",
              "0              fw : memo : re : your work phone number  ...     spam\n",
              "1                                   fw : cost estimate  ...      ham\n",
              "2                                        re : releases  ...     spam\n",
              "3                            fw : re ivanhoe e . s . d  ...     spam\n",
              "4                               scholarship interviews  ...      ham\n",
              "...                                                ...  ...      ...\n",
              "3367                      columbia energy history data  ...      ham\n",
              "3368  start date : 1 / 10 / 02 ; hourahead hour : 16 ;  ...      ham\n",
              "3369                          re : mba polish speakers  ...      ham\n",
              "3370                     re : enron / stanford program  ...      ham\n",
              "3371                         fw : re ivanhoe e . s . d  ...     spam\n",
              "\n",
              "[3372 rows x 3 columns]"
            ]
          },
          "metadata": {},
          "execution_count": 36
        }
      ]
    },
    {
      "cell_type": "code",
      "source": [
        ""
      ],
      "metadata": {
        "id": "W_ITkLHMAncp"
      },
      "execution_count": null,
      "outputs": []
    }
  ]
}